{
 "cells": [
  {
   "cell_type": "markdown",
   "metadata": {},
   "source": [
    "![College Logo](/home/pandiajason/NIT/CIVIL/ANSI-C/misc/college-logo-1024x245.png)"
   ]
  },
  {
   "cell_type": "markdown",
   "metadata": {},
   "source": [
    "\n",
    "\n",
    "\n",
    "<div class=\"alert alert-block alert-info\">\n",
    "    \n",
    "# Lecture notes on C Programming\n",
    "\n",
    "**By Jason Pandian**<br> *Assistant Professor, Department of Information Technology*\n",
    "    \n",
    "</div>\n",
    "\n"
   ]
  },
  {
   "cell_type": "markdown",
   "metadata": {},
   "source": [
    "# Structure of C Program _ C Tokens: Constants, Variables _ Data Types: Primitive Data Types, Type Definition, Operators and Expressions _ Managing Input and Output Operations"
   ]
  },
  {
   "cell_type": "markdown",
   "metadata": {
    "_cell_guid": "b1076dfc-b9ad-4769-8c92-a6c4dae69d19",
    "_uuid": "8f2839f25d086af736a60e9eeb907d3b93b6e0e5",
    "execution": {
     "iopub.execute_input": "2024-02-29T15:29:33.880275Z",
     "iopub.status.busy": "2024-02-29T15:29:33.879856Z",
     "iopub.status.idle": "2024-02-29T15:29:33.923139Z",
     "shell.execute_reply": "2024-02-29T15:29:33.920959Z",
     "shell.execute_reply.started": "2024-02-29T15:29:33.880237Z"
    }
   },
   "source": [
    "# Structure of C Program\n",
    "\n",
    "- A C program can be viewed as a group of building blocks called functions. \n",
    "- A function is a subroutine that may include one or more statements designed to perform a specific task. \n",
    "- To write a C program, we first create functions and then put them together."
   ]
  },
  {
   "cell_type": "markdown",
   "metadata": {},
   "source": [
    "![Structure of C](/home/pandiajason/NIT/CIVIL/ANSI-C/misc/structure_of_c.png)\n",
    "### Structure of C Program"
   ]
  },
  {
   "cell_type": "code",
   "execution_count": null,
   "metadata": {},
   "outputs": [],
   "source": [
    "/*\n",
    " * Program: [Program Name]\n",
    " * Author: [Your Name]\n",
    " * Date: [Date of Creation]\n",
    " * Purpose: [Brief Description of the Program]\n",
    " */\n",
    "\n",
    "\n",
    "#include <stdio.h>\n",
    "\n",
    "int main(void) {\n",
    "    // Program logic goes here\n",
    "    printf(\"Hello, World!\");\n",
    "    return 0; // Indicates successful execution\n",
    "}"
   ]
  },
  {
   "cell_type": "markdown",
   "metadata": {},
   "source": [
    "# C Tokens\n",
    "\n",
    "- In C programming, a token is the unit that a compiler can understand. \n",
    "- A program that you write is parsed as tokens and then executed to binary\n",
    "- C tokens are classified into six categories:\n",
    "\n",
    "## 1.Keywords\n",
    "-  All keywords have fixed meanings and these meanings cannot be changed. Keywords serve as basic building blocks for program statements.\n",
    "- Examples: int, char, if, else, for, while, etc.\n",
    "\n",
    "## 2.Identifiers\n",
    "- Identifiers refer to the names of variables, functions and arrays. \n",
    "- These are user-defined names and consist of a sequence of letters and digits, with a letter as a first character. \n",
    "- Both uppercase and lowercase letters are permitted, although lowercase letters are commonly used. \n",
    "- Must begin with a letter or underscore, followed by letters, digits, or underscores.\n",
    "- Examples: main, count, _value, etc."
   ]
  },
  {
   "cell_type": "markdown",
   "metadata": {},
   "source": [
    "## 3. Constants\n",
    "- Constants in C refer to fixed values that do not change during the execution of a program.\n",
    "\n",
    "### Types\n",
    "- **Integer Constants:** 10, -20.\n",
    "- **Floating-point Constants:** 3.14.\n",
    "- **Character Constants:** 'A', '\\n'.\n"
   ]
  },
  {
   "cell_type": "code",
   "execution_count": null,
   "metadata": {},
   "outputs": [],
   "source": [
    "int const value = 10; // 10\n",
    "value = value + 1; // produce a error"
   ]
  },
  {
   "cell_type": "markdown",
   "metadata": {},
   "source": [
    "## 4. String Literals\n",
    "- Sequence of characters enclosed in double quotes.\n",
    "- Example: \"Hello, World!\"\n",
    "\n",
    "## 5. Operators\n",
    "- Symbols that perform operations on variables and values.\n",
    "- Examples: +, -, *, /, %, ==, !=, &&, ||, etc.\n",
    "\n",
    "## 6. Punctuation Symbols\n",
    "- Symbols used to define the structure of C programs.\n",
    "- Examples: ; (semicolon), , (comma), . (dot), () (parentheses), {} (braces), [] (square brackets), etc.\n",
    "\n",
    "## 7. Comments\n",
    "- Used for documentation and are ignored by the compiler.\n",
    "- Single-line comment: // This is a comment\n",
    "- Multi-line comment: /* This is a multi-line comment */\n",
    "- Here's a simple example that includes different tokens:\n"
   ]
  },
  {
   "cell_type": "markdown",
   "metadata": {},
   "source": [
    "## Variables\n",
    "- A variable is a data name that may be used to store a data value. \n",
    "- Unlike constants that remain unchanged during the execution of a program,\n",
    "- a variable may take different values at different times during execution.\n",
    "\n",
    "### Syntax\n",
    "data_type variable_name;\n"
   ]
  },
  {
   "cell_type": "code",
   "execution_count": null,
   "metadata": {},
   "outputs": [],
   "source": [
    "int value = 10; \n",
    "// 10\n",
    "value = value + 1; \n",
    "//11"
   ]
  },
  {
   "cell_type": "markdown",
   "metadata": {},
   "source": [
    "### 1.Use Descriptive Names"
   ]
  },
  {
   "cell_type": "code",
   "execution_count": null,
   "metadata": {},
   "outputs": [],
   "source": [
    "int totalAmount = 1000;"
   ]
  },
  {
   "cell_type": "markdown",
   "metadata": {},
   "source": [
    "### 2.Use CamelCase or Underscore Notation"
   ]
  },
  {
   "cell_type": "code",
   "execution_count": null,
   "metadata": {},
   "outputs": [],
   "source": [
    "// CamelCase\n",
    "int studentCount;\n",
    "\n",
    "// Underscore Notation\n",
    "int student_count;"
   ]
  },
  {
   "cell_type": "markdown",
   "metadata": {},
   "source": [
    "### 3.Use Uppercase for Constants"
   ]
  },
  {
   "cell_type": "code",
   "execution_count": null,
   "metadata": {},
   "outputs": [],
   "source": [
    "#define MAX_SIZE 100\n",
    "const int BUFFER_SIZE = 256;"
   ]
  },
  {
   "cell_type": "markdown",
   "metadata": {},
   "source": [
    "### 4.Global Variables and Local Variables"
   ]
  },
  {
   "cell_type": "code",
   "execution_count": null,
   "metadata": {},
   "outputs": [],
   "source": [
    "// Global variable\n",
    "int g_globalVar;\n",
    "\n",
    "int main() {\n",
    "    // Local variable\n",
    "    int localVar;\n",
    "    // ...\n",
    "}"
   ]
  },
  {
   "cell_type": "markdown",
   "metadata": {},
   "source": [
    "### 5.Use Plural for Arrays or Collections:"
   ]
  },
  {
   "cell_type": "code",
   "execution_count": null,
   "metadata": {},
   "outputs": [],
   "source": [
    "// Good\n",
    "int numbers[10];\n",
    "char names[MAX_NAMES];"
   ]
  },
  {
   "cell_type": "markdown",
   "metadata": {},
   "source": [
    "- **C language is rich in its data types.** \n",
    "- **Storage representations and machine instructions to handle constants differ from machine to machine.** \n",
    "- **The variety of data types available allows the programmer to select the type appropriate to the needs of the application as well as the machine.**\n",
    "\n",
    "ANSI C supports three classes of data types: \n",
    "  - Primary (or fundamental) data types\n",
    "  - Derived data types\n",
    "  - User-defined data types\n"
   ]
  },
  {
   "cell_type": "markdown",
   "metadata": {},
   "source": [
    "- All C compilers support five fundamental data types, namely integer (`int`), character (`char`), floating point (`float`), double-precision floating point (`double`), and `void`. Many of them also offer extended data types such as `long int` and `long double`.\n"
   ]
  },
  {
   "cell_type": "markdown",
   "metadata": {},
   "source": [
    "## Primary Data Types\n",
    "\n",
    "![Primary Data Types](/home/pandiajason/NIT/CIVIL/ANSI-C/misc/primary_data_types.png)"
   ]
  },
  {
   "cell_type": "markdown",
   "metadata": {},
   "source": [
    "### Size and Range of Basic Data Types on 16-bit Machines\n",
    "\n",
    "![Size and Range](/home/pandiajason/NIT/CIVIL/ANSI-C/misc/range-size.png)"
   ]
  },
  {
   "cell_type": "markdown",
   "metadata": {},
   "source": [
    "### Integer types\n",
    "\n",
    "![Integer Types](/home/pandiajason/NIT/CIVIL/ANSI-C/misc/Integer-types.png)"
   ]
  },
  {
   "cell_type": "code",
   "execution_count": null,
   "metadata": {},
   "outputs": [],
   "source": [
    "// 16-bit integer (2 bytes)\n",
    "short int shortInteger = 32767;   \n",
    "\n",
    "// 32-bit integer (4 bytes)\n",
    "int regularInteger = 2147483647;  \n",
    "\n",
    "// 32 or 64-bit integer (platform-dependent)\n",
    "long longInteger = 2147483648;    "
   ]
  },
  {
   "cell_type": "markdown",
   "metadata": {},
   "source": [
    "### Float types\n",
    "\n",
    "Float is a decimal point data type which has double, and long double for extra precision.\n",
    "\n",
    "![Floating-Point Types](/home/pandiajason/NIT/CIVIL/ANSI-C/misc/Floating-point%20types.png)"
   ]
  },
  {
   "cell_type": "code",
   "execution_count": null,
   "metadata": {},
   "outputs": [],
   "source": [
    "// 32-bit floating-point (4 bytes)\n",
    "float pi = 3.14159; \n",
    "\n",
    "// 64-bit floating-point (8 bytes)\n",
    "double myDoubleVariable = 42.5678; \n",
    "\n",
    "// 80-bit or 128-bit floating-point (10 or 16 bytes)\n",
    "long double myLongDoubleVariable = 123.456789012345; "
   ]
  },
  {
   "cell_type": "markdown",
   "metadata": {},
   "source": [
    "### Char types"
   ]
  },
  {
   "cell_type": "code",
   "execution_count": null,
   "metadata": {},
   "outputs": [],
   "source": [
    "// 8-bit character (1 byte)\n",
    "char myCharVariable = 'A'; "
   ]
  },
  {
   "cell_type": "markdown",
   "metadata": {},
   "source": [
    "### Bool type\n",
    "\n",
    "- In C, the keyword for boolean values is typically `bool`, and it is provided by including the `<stdbool.h>` header.\n",
    "\n",
    "- However, it's essential to note that the C standard doesn't specify a fixed size for `bool`.\n"
   ]
  },
  {
   "cell_type": "markdown",
   "metadata": {},
   "source": [
    "##### include <stdbool.h>\n",
    "\n",
    "// Implementation-dependent size (commonly 1 byte)\n",
    "bool myBoolVariable = true; "
   ]
  },
  {
   "cell_type": "markdown",
   "metadata": {},
   "source": [
    "## Operators and Expressions\n",
    "\n",
    "### Arithmetic Operators\n",
    "- `+` (addition)\n",
    "- `-` (subtraction)\n",
    "- `*` (multiplication)\n",
    "- `/` (division)\n",
    "- `%` (modulus)"
   ]
  },
  {
   "cell_type": "code",
   "execution_count": null,
   "metadata": {},
   "outputs": [],
   "source": [
    "#include <stdio.h>\n",
    "\n",
    "int main() \n",
    "{\n",
    "    // Arithmetic Operators\n",
    "    int a = 10, b = 5;\n",
    "    printf(\"Addition: %d\\n\", a + b);\n",
    "    printf(\"Subtraction: %d\\n\", a - b);\n",
    "    printf(\"Multiplication: %d\\n\", a * b);\n",
    "    printf(\"Division: %d\\n\", a / b);\n",
    "    printf(\"Modulus: %d\\n\\n\", a % b);\n",
    "\n",
    "    return 0;\n",
    "}"
   ]
  },
  {
   "cell_type": "markdown",
   "metadata": {},
   "source": [
    "\n",
    "### Relational Operators:\n",
    "- `==` (equal to)\n",
    "- `!=` (not equal to)\n",
    "- `>` (greater than)\n",
    "- `<` (less than)\n",
    "- `>=` (greater than or equal to)\n",
    "- `<=` (less than or equal to)\n"
   ]
  },
  {
   "cell_type": "code",
   "execution_count": null,
   "metadata": {},
   "outputs": [],
   "source": [
    "#include <stdio.h>\n",
    "\n",
    "int main() \n",
    "{\n",
    " // Relational Operators\n",
    "    int x = 8, y = 12;\n",
    "    printf(\"Equal to: %d\\n\", x == y); // false\n",
    "    printf(\"Not equal to: %d\\n\", x != y); // true\n",
    "    printf(\"Greater than: %d\\n\", x > y); // false\n",
    "    printf(\"Less than: %d\\n\", x < y); // true\n",
    "    printf(\"Greater than or equal to: %d\\n\", x >= y); // false\n",
    "    printf(\"Less than or equal to: %d\\n\\n\", x <= y); //true\n",
    "\n",
    "    return 0;\n",
    "}\n"
   ]
  },
  {
   "cell_type": "markdown",
   "metadata": {},
   "source": [
    "\n",
    "### Logical Operators:\n",
    "- `&&` (logical AND)\n",
    "- `||` (logical OR)\n",
    "- `!` (logical NOT)"
   ]
  },
  {
   "cell_type": "code",
   "execution_count": null,
   "metadata": {},
   "outputs": [],
   "source": [
    "#include <stdio.h>\n",
    "\n",
    "int main() {\n",
    "    // Logical Operators\n",
    "    int p = 1, q = 0;\n",
    "\n",
    "    // 1 AND 0\n",
    "    printf(\"Logical AND: %d\\n\", p && q);\n",
    "\n",
    "    // 1 OR 0\n",
    "    printf(\"Logical OR: %d\\n\", p || q);\n",
    "\n",
    "    // NOT 1\n",
    "    printf(\"Logical NOT: %d\\n\\n\", !p);\n",
    "\n",
    "    return 0;\n",
    "}\n"
   ]
  },
  {
   "cell_type": "markdown",
   "metadata": {},
   "source": [
    "\n",
    "### Assignment Operators:\n",
    "- `=` (assignment)\n",
    "- `+=` (addition assignment)\n",
    "- `-=` (subtraction assignment)\n",
    "- `*=` (multiplication assignment)\n",
    "- `/=` (division assignment)\n",
    "- `%=` (modulus assignment)"
   ]
  },
  {
   "cell_type": "code",
   "execution_count": null,
   "metadata": {},
   "outputs": [],
   "source": [
    "#include <stdio.h>\n",
    "\n",
    "int main() {\n",
    "    // Assignment Operators\n",
    "    int num = 5;\n",
    "    num += 3;\n",
    "    printf(\"Addition Assignment: %d\\n\", num);\n",
    "\n",
    "    return 0;\n",
    "}\n"
   ]
  },
  {
   "cell_type": "markdown",
   "metadata": {},
   "source": [
    "\n",
    "### Increment and Decrement Operators:\n",
    "- `++` (increment)\n",
    "- `--` (decrement)"
   ]
  },
  {
   "cell_type": "code",
   "execution_count": null,
   "metadata": {},
   "outputs": [],
   "source": [
    "#include <stdio.h>\n",
    "\n",
    "int main() {\n",
    "    // Increment and Decrement Operators\n",
    "    int count = 5;\n",
    "    count++; // count =  count + 1\n",
    "    printf(\"Increment: %d\\n\", count);\n",
    "    count--; // count = count - 1\n",
    "    printf(\"Decrement: %d\\n\\n\", count);\n",
    "    return 0;\n",
    "}\n"
   ]
  },
  {
   "cell_type": "markdown",
   "metadata": {},
   "source": [
    "\n",
    "### Bitwise Operators:\n",
    "- `&` (bitwise AND)\n",
    "- `|` (bitwise OR)\n",
    "- `^` (bitwise XOR)\n",
    "- `~` (bitwise NOT)\n",
    "- `<<` (left shift)\n",
    "- `>>` (right shift)"
   ]
  },
  {
   "cell_type": "code",
   "execution_count": null,
   "metadata": {},
   "outputs": [],
   "source": [
    "#include <stdio.h>\n",
    "\n",
    "int main() {\n",
    "   // Bitwise Operators\n",
    "    unsigned int m = 12, n = 7;\n",
    "    printf(\"Bitwise AND: %u\\n\", m & n);\n",
    "/*\n",
    "   1100\n",
    " & 0111\n",
    "   ----\n",
    "   0100\n",
    "*/\n",
    "    printf(\"Bitwise OR: %u\\n\", m | n);\n",
    "/*\n",
    "   1100\n",
    " | 0111\n",
    "   ----\n",
    "   1111\n",
    "*/\n",
    "    printf(\"Bitwise XOR: %u\\n\", m ^ n);\n",
    "/*\n",
    "   1100\n",
    " ^ 0111\n",
    "   ----\n",
    "   1011\n",
    "\n",
    "*/\n",
    "    printf(\"Bitwise NOT: %u\\n\", ~m);\n",
    "/*\n",
    "  1100\n",
    "  ----\n",
    "  0011\n",
    "\n",
    "*/\n",
    "    printf(\"Left Shift: %u\\n\", m << 2);\n",
    "/*\n",
    "   1100\n",
    "<<\n",
    "   ----\n",
    "   110000\n",
    "\n",
    "*/\n",
    "    printf(\"Right Shift: %u\\n\\n\", m >> 2);\n",
    "/*\n",
    "   1100\n",
    ">>\n",
    "   ----\n",
    "   0011\n",
    "\n",
    "*/\n",
    "    return 0;\n",
    "}\n"
   ]
  },
  {
   "cell_type": "markdown",
   "metadata": {},
   "source": [
    "\n",
    "### Conditional (Ternary) Operator:\n",
    "- `condition ? expression_if_true : expression_if_false`"
   ]
  },
  {
   "cell_type": "code",
   "execution_count": null,
   "metadata": {},
   "outputs": [],
   "source": [
    "#include <stdio.h>\n",
    "\n",
    "int main() {\n",
    "    // Conditional (Ternary) Operator\n",
    "    int age = 20;\n",
    "    printf(\"You are %s\\n\", (age >= 18) ? \"an adult\" : \"a minor\");\n",
    "\n",
    "\n",
    "    return 0;\n",
    "}\n"
   ]
  },
  {
   "cell_type": "markdown",
   "metadata": {},
   "source": [
    "## Managing Input and Output Operations in C\n",
    "\n",
    "### Standard Input/Output Functions:\n"
   ]
  },
  {
   "cell_type": "code",
   "execution_count": null,
   "metadata": {},
   "outputs": [],
   "source": [
    "#include <stdio.h>\n",
    "\n",
    "int main() {\n",
    "    // printf for formatted output\n",
    "    int num = 5;\n",
    "    printf(\"The value of num is: %d\\n\", num);\n",
    "\n",
    "    // scanf for formatted input\n",
    "    int userInput;\n",
    "    printf(\"Enter a number: \");\n",
    "    scanf(\"%d\", &userInput);\n",
    "\n",
    "    // getchar and putchar for single characters\n",
    "    char ch;\n",
    "    printf(\"Enter a character: \");\n",
    "    ch = getchar();\n",
    "    putchar(ch);\n",
    "\n",
    "    return 0;\n",
    "}"
   ]
  },
  {
   "cell_type": "markdown",
   "metadata": {},
   "source": [
    "### File I/O Functions"
   ]
  },
  {
   "cell_type": "code",
   "execution_count": null,
   "metadata": {},
   "outputs": [],
   "source": [
    "#include <stdio.h>\n",
    "\n",
    "int main() {\n",
    "    // fopen, fclose, fwrite, and fread for file operations\n",
    "    FILE *filePointer;\n",
    "    filePointer = fopen(\"example.txt\", \"w\");\n",
    "    fprintf(filePointer, \"Hello, File!\");\n",
    "    fclose(filePointer);\n",
    "\n",
    "    // fgets and fputs for strings in files\n",
    "    char buffer[100];\n",
    "    filePointer = fopen(\"example.txt\", \"r\");\n",
    "    fgets(buffer, sizeof(buffer), filePointer);\n",
    "    fclose(filePointer);\n",
    "\n",
    "    return 0;\n",
    "}\n"
   ]
  },
  {
   "cell_type": "markdown",
   "metadata": {},
   "source": [
    "### Error Handling"
   ]
  },
  {
   "cell_type": "code",
   "execution_count": null,
   "metadata": {},
   "outputs": [],
   "source": [
    "#include <stdio.h>\n",
    "\n",
    "int main() {\n",
    "    // perror for error description\n",
    "    FILE *filePointer;\n",
    "    filePointer = fopen(\"nonexistentfile.txt\", \"r\");\n",
    "    if (filePointer == NULL) {\n",
    "        perror(\"Error opening file\");\n",
    "    }\n",
    "\n",
    "    // feof and ferror for end-of-file and error conditions\n",
    "    filePointer = fopen(\"example.txt\", \"r\");\n",
    "    while (!feof(filePointer)) {\n",
    "        int character = fgetc(filePointer);\n",
    "        if (ferror(filePointer)) {\n",
    "            perror(\"Error reading file\");\n",
    "            break;\n",
    "        }\n",
    "        // Process the character\n",
    "    }\n",
    "    fclose(filePointer);\n",
    "\n",
    "    return 0;\n",
    "}"
   ]
  },
  {
   "cell_type": "markdown",
   "metadata": {},
   "source": [
    "\n",
    "\n",
    "\n",
    "<div class=\"alert alert-block alert-info\">\n",
    "    \n",
    "# Any Questions or Doubts?\n",
    "\n",
    "[**Refer the Lectures/Tutorials GitHub Page**](https://github.com/PandiaJason/ANSI-C)\n",
    "\n",
    "    \n",
    "</div>\n",
    "\n"
   ]
  }
 ],
 "metadata": {
  "kaggle": {
   "accelerator": "none",
   "dataSources": [],
   "dockerImageVersionId": 30664,
   "isGpuEnabled": false,
   "isInternetEnabled": false,
   "language": "python",
   "sourceType": "notebook"
  },
  "kernelspec": {
   "display_name": "Python 3 (ipykernel)",
   "language": "python",
   "name": "python3"
  },
  "language_info": {
   "codemirror_mode": {
    "name": "ipython",
    "version": 3
   },
   "file_extension": ".py",
   "mimetype": "text/x-python",
   "name": "python",
   "nbconvert_exporter": "python",
   "pygments_lexer": "ipython3",
   "version": "3.11.2"
  }
 },
 "nbformat": 4,
 "nbformat_minor": 4
}
